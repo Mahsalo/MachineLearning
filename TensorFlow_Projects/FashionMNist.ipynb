{
  "nbformat": 4,
  "nbformat_minor": 0,
  "metadata": {
    "colab": {
      "name": "FashionMNist.ipynb",
      "provenance": [],
      "authorship_tag": "ABX9TyMUL7zGLCTUI/aY3r+1BVbX",
      "include_colab_link": true
    },
    "kernelspec": {
      "name": "python3",
      "display_name": "Python 3"
    }
  },
  "cells": [
    {
      "cell_type": "markdown",
      "metadata": {
        "id": "view-in-github",
        "colab_type": "text"
      },
      "source": [
        "<a href=\"https://colab.research.google.com/github/Mahsalo/BasicML/blob/main/FashionMNist.ipynb\" target=\"_parent\"><img src=\"https://colab.research.google.com/assets/colab-badge.svg\" alt=\"Open In Colab\"/></a>"
      ]
    },
    {
      "cell_type": "code",
      "metadata": {
        "colab": {
          "base_uri": "https://localhost:8080/"
        },
        "id": "FLYyBUwIOEMj",
        "outputId": "b57b086c-aad8-435e-ea22-6f275eece9e6"
      },
      "source": [
        "import tensorflow as tf\n",
        "import numpy as np\n",
        "import matplotlib.pyplot as plt\n",
        "print(tf.__version__)"
      ],
      "execution_count": 1,
      "outputs": [
        {
          "output_type": "stream",
          "text": [
            "2.4.1\n"
          ],
          "name": "stdout"
        }
      ]
    },
    {
      "cell_type": "code",
      "metadata": {
        "colab": {
          "base_uri": "https://localhost:8080/"
        },
        "id": "25_7tKsyScQ7",
        "outputId": "b4ee00e4-c22d-4a0b-fa93-ee8721aa085e"
      },
      "source": [
        "mnist = tf.keras.datasets.fashion_mnist\n",
        "(tr_images,tr_labels),(ts_images,ts_labels)=mnist.load_data()"
      ],
      "execution_count": 2,
      "outputs": [
        {
          "output_type": "stream",
          "text": [
            "Downloading data from https://storage.googleapis.com/tensorflow/tf-keras-datasets/train-labels-idx1-ubyte.gz\n",
            "32768/29515 [=================================] - 0s 0us/step\n",
            "Downloading data from https://storage.googleapis.com/tensorflow/tf-keras-datasets/train-images-idx3-ubyte.gz\n",
            "26427392/26421880 [==============================] - 0s 0us/step\n",
            "Downloading data from https://storage.googleapis.com/tensorflow/tf-keras-datasets/t10k-labels-idx1-ubyte.gz\n",
            "8192/5148 [===============================================] - 0s 0us/step\n",
            "Downloading data from https://storage.googleapis.com/tensorflow/tf-keras-datasets/t10k-images-idx3-ubyte.gz\n",
            "4423680/4422102 [==============================] - 0s 0us/step\n"
          ],
          "name": "stdout"
        }
      ]
    },
    {
      "cell_type": "code",
      "metadata": {
        "colab": {
          "base_uri": "https://localhost:8080/",
          "height": 350
        },
        "id": "oLlaMdtCTLaK",
        "outputId": "e8791354-07df-4837-d56c-d5b0bb552e25"
      },
      "source": [
        "print('training size',tr_images.shape)\n",
        "print('training labels',tr_labels.shape)\n",
        "print('test size',ts_images.shape)\n",
        "print('test labels',ts_labels.shape)\n",
        "\n",
        "\n",
        "plt.imshow(tr_images[120])\n",
        "print(tr_labels[120])"
      ],
      "execution_count": 3,
      "outputs": [
        {
          "output_type": "stream",
          "text": [
            "training size (60000, 28, 28)\n",
            "training labels (60000,)\n",
            "test size (10000, 28, 28)\n",
            "test labels (10000,)\n",
            "5\n"
          ],
          "name": "stdout"
        },
        {
          "output_type": "display_data",
          "data": {
            "image/png": "[encoded data removed]",
            "text/plain": [
              "<Figure size 432x288 with 1 Axes>"
            ]
          },
          "metadata": {
            "tags": [],
            "needs_background": "light"
          }
        }
      ]
    },
    {
      "cell_type": "code",
      "metadata": {
        "colab": {
          "base_uri": "https://localhost:8080/",
          "height": 282
        },
        "id": "AvH3GwpKUQ90",
        "outputId": "a1924511-5028-4f2f-8bec-dfc3eb124f4e"
      },
      "source": [
        "## Normalizing the values\n",
        "tr_images = tr_images/255\n",
        "ts_images = ts_images/255\n",
        "plt.imshow(ts_images[150])\n"
      ],
      "execution_count": 4,
      "outputs": [
        {
          "output_type": "execute_result",
          "data": {
            "text/plain": [
              "<matplotlib.image.AxesImage at 0x7f5fe048be80>"
            ]
          },
          "metadata": {
            "tags": []
          },
          "execution_count": 4
        },
        {
          "output_type": "display_data",
          "data": {
            "image/png": "[encoded data removed]",
            "text/plain": [
              "<Figure size 432x288 with 1 Axes>"
            ]
          },
          "metadata": {
            "tags": [],
            "needs_background": "light"
          }
        }
      ]
    },
    {
      "cell_type": "code",
      "metadata": {
        "id": "4vNxlhoiWEN3"
      },
      "source": [
        "## Define the model and the layers by using Sequential\n",
        "model = tf.keras.models.Sequential([tf.keras.layers.Flatten(),\n",
        "                                    tf.keras.layers.Dense(units=1024, activation=tf.nn.relu),\n",
        "                                    tf.keras.layers.Dense(units=10, activation=tf.nn.softmax)])"
      ],
      "execution_count": 5,
      "outputs": []
    },
    {
      "cell_type": "code",
      "metadata": {
        "id": "dM18Ei5nYnRP"
      },
      "source": [
        "## Define the optimizer, the loss function and the metric in the model.compile\n",
        "model.compile(optimizer= tf.optimizers.Adam(),\n",
        "              loss = 'sparse_categorical_crossentropy',\n",
        "              metrics = ['accuracy'])"
      ],
      "execution_count": 6,
      "outputs": []
    },
    {
      "cell_type": "code",
      "metadata": {
        "colab": {
          "base_uri": "https://localhost:8080/"
        },
        "id": "nzvKYnnDZBd9",
        "outputId": "6e27e890-1b30-4a66-b98b-e43d6c3c712a"
      },
      "source": [
        "## Train the model by using model.fit\n",
        "model.fit(tr_images,tr_labels,epochs=20)"
      ],
      "execution_count": 7,
      "outputs": [
        {
          "output_type": "stream",
          "text": [
            "Epoch 1/20\n",
            "1875/1875 [==============================] - 17s 9ms/step - loss: 0.5760 - accuracy: 0.7975\n",
            "Epoch 2/20\n",
            "1875/1875 [==============================] - 17s 9ms/step - loss: 0.3626 - accuracy: 0.8667\n",
            "Epoch 3/20\n",
            "1875/1875 [==============================] - 18s 9ms/step - loss: 0.3226 - accuracy: 0.8799\n",
            "Epoch 4/20\n",
            "1875/1875 [==============================] - 17s 9ms/step - loss: 0.2954 - accuracy: 0.8894\n",
            "Epoch 5/20\n",
            "1875/1875 [==============================] - 17s 9ms/step - loss: 0.2717 - accuracy: 0.8992\n",
            "Epoch 6/20\n",
            "1875/1875 [==============================] - 15s 8ms/step - loss: 0.2624 - accuracy: 0.9007\n",
            "Epoch 7/20\n",
            "1875/1875 [==============================] - 15s 8ms/step - loss: 0.2543 - accuracy: 0.9056\n",
            "Epoch 8/20\n",
            "1875/1875 [==============================] - 16s 8ms/step - loss: 0.2366 - accuracy: 0.9118\n",
            "Epoch 9/20\n",
            "1875/1875 [==============================] - 15s 8ms/step - loss: 0.2308 - accuracy: 0.9128\n",
            "Epoch 10/20\n",
            "1875/1875 [==============================] - 15s 8ms/step - loss: 0.2203 - accuracy: 0.9154\n",
            "Epoch 11/20\n",
            "1875/1875 [==============================] - 15s 8ms/step - loss: 0.2113 - accuracy: 0.9198\n",
            "Epoch 12/20\n",
            "1875/1875 [==============================] - 14s 8ms/step - loss: 0.1973 - accuracy: 0.9259\n",
            "Epoch 13/20\n",
            "1875/1875 [==============================] - 14s 8ms/step - loss: 0.1939 - accuracy: 0.9269\n",
            "Epoch 14/20\n",
            "1875/1875 [==============================] - 15s 8ms/step - loss: 0.1841 - accuracy: 0.9293\n",
            "Epoch 15/20\n",
            "1875/1875 [==============================] - 14s 8ms/step - loss: 0.1793 - accuracy: 0.9333\n",
            "Epoch 16/20\n",
            "1875/1875 [==============================] - 14s 8ms/step - loss: 0.1718 - accuracy: 0.9355\n",
            "Epoch 17/20\n",
            "1875/1875 [==============================] - 14s 8ms/step - loss: 0.1684 - accuracy: 0.9375\n",
            "Epoch 18/20\n",
            "1875/1875 [==============================] - 20s 11ms/step - loss: 0.1628 - accuracy: 0.9381\n",
            "Epoch 19/20\n",
            "1875/1875 [==============================] - 15s 8ms/step - loss: 0.1566 - accuracy: 0.9402\n",
            "Epoch 20/20\n",
            "1875/1875 [==============================] - 16s 8ms/step - loss: 0.1541 - accuracy: 0.9420\n"
          ],
          "name": "stdout"
        },
        {
          "output_type": "execute_result",
          "data": {
            "text/plain": [
              "<tensorflow.python.keras.callbacks.History at 0x7f5fdf7a1f28>"
            ]
          },
          "metadata": {
            "tags": []
          },
          "execution_count": 7
        }
      ]
    },
    {
      "cell_type": "code",
      "metadata": {
        "colab": {
          "base_uri": "https://localhost:8080/"
        },
        "id": "V-PIVDOeazbr",
        "outputId": "54620a46-0876-4ff9-c251-75b85aa33927"
      },
      "source": [
        "model.evaluate(ts_images,ts_labels)"
      ],
      "execution_count": 10,
      "outputs": [
        {
          "output_type": "stream",
          "text": [
            "313/313 [==============================] - 1s 3ms/step - loss: 0.4467 - accuracy: 0.8787\n"
          ],
          "name": "stdout"
        },
        {
          "output_type": "execute_result",
          "data": {
            "text/plain": [
              "[0.44665849208831787, 0.8787000179290771]"
            ]
          },
          "metadata": {
            "tags": []
          },
          "execution_count": 10
        }
      ]
    },
    {
      "cell_type": "code",
      "metadata": {
        "colab": {
          "base_uri": "https://localhost:8080/"
        },
        "id": "4yXf-DQKrHv1",
        "outputId": "f62e6cdb-a01a-4c1a-f223-54bcca392447"
      },
      "source": [
        "pred = model.predict(ts_images)\n",
        "print(pred[0])"
      ],
      "execution_count": 11,
      "outputs": [
        {
          "output_type": "stream",
          "text": [
            "[3.0767321e-13 3.4346314e-15 1.6195693e-12 4.4554950e-20 3.8890512e-16\n",
            " 4.5795990e-05 1.7631484e-14 3.2803809e-04 3.2746006e-14 9.9962616e-01]\n"
          ],
          "name": "stdout"
        }
      ]
    },
    {
      "cell_type": "code",
      "metadata": {
        "colab": {
          "base_uri": "https://localhost:8080/"
        },
        "id": "JdQ11205lp8p",
        "outputId": "2e11b760-12c3-4af3-8d85-2f9dbf2fb56e"
      },
      "source": [
        "import tensorflow as tf\n",
        "print(tf.__version__)\n",
        "\n",
        "###Define a callbacks class to end the training after hitting a threshold\n",
        "class myCallback(tf.keras.callbacks.Callback):\n",
        "  def on_epoch_end(self, epoch, logs={}):\n",
        "    if(logs.get('loss')<0.4):\n",
        "      print(\"\\nReached 60% accuracy so cancelling training!\")\n",
        "      self.model.stop_training = True\n",
        "###Call the class\n",
        "callbacks = myCallback()\n",
        "\n",
        "mnist = tf.keras.datasets.fashion_mnist\n",
        "(training_images, training_labels), (test_images, test_labels) = mnist.load_data()\n",
        "training_images=training_images/255.0\n",
        "test_images=test_images/255.0\n",
        "model = tf.keras.models.Sequential([\n",
        "  tf.keras.layers.Flatten(),\n",
        "  tf.keras.layers.Dense(512, activation=tf.nn.relu),\n",
        "  tf.keras.layers.Dense(10, activation=tf.nn.softmax)\n",
        "])\n",
        "model.compile(optimizer='adam', loss='sparse_categorical_crossentropy')\n",
        "\n",
        "###Include the callbacks while fitting the model\n",
        "model.fit(training_images, training_labels, epochs=5, callbacks=[callbacks])"
      ],
      "execution_count": 1,
      "outputs": [
        {
          "output_type": "stream",
          "text": [
            "2.4.1\n",
            "Downloading data from https://storage.googleapis.com/tensorflow/tf-keras-datasets/train-labels-idx1-ubyte.gz\n",
            "32768/29515 [=================================] - 0s 0us/step\n",
            "Downloading data from https://storage.googleapis.com/tensorflow/tf-keras-datasets/train-images-idx3-ubyte.gz\n",
            "26427392/26421880 [==============================] - 0s 0us/step\n",
            "Downloading data from https://storage.googleapis.com/tensorflow/tf-keras-datasets/t10k-labels-idx1-ubyte.gz\n",
            "8192/5148 [===============================================] - 0s 0us/step\n",
            "Downloading data from https://storage.googleapis.com/tensorflow/tf-keras-datasets/t10k-images-idx3-ubyte.gz\n",
            "4423680/4422102 [==============================] - 0s 0us/step\n",
            "Epoch 1/5\n",
            "1875/1875 [==============================] - 10s 5ms/step - loss: 0.5911\n",
            "Epoch 2/5\n",
            "1875/1875 [==============================] - 8s 4ms/step - loss: 0.3688\n",
            "\n",
            "Reached 60% accuracy so cancelling training!\n"
          ],
          "name": "stdout"
        },
        {
          "output_type": "execute_result",
          "data": {
            "text/plain": [
              "<tensorflow.python.keras.callbacks.History at 0x7fae999677f0>"
            ]
          },
          "metadata": {
            "tags": []
          },
          "execution_count": 1
        }
      ]
    },
    {
      "cell_type": "markdown",
      "metadata": {
        "id": "cxhxFAzUggmp"
      },
      "source": [
        "**Defining different layers:**\n",
        "\n",
        "- Sequential: That defines a SEQUENCE of layers in the neural network\n",
        "\n",
        "- Flatten: Remember earlier where our images were a square, when you printed them out? Flatten just takes that square and turns it into a 1 dimensional set.\n",
        "\n",
        "- Dense: Adds a layer of neurons\n",
        "\n",
        "- Each layer of neurons need an activation function to tell them what to do. There's lots of options, but just use these for now.\n",
        "\n",
        "- Relu effectively means \"If X>0 return X, else return 0\" -- so what it does it it only passes values 0 or greater to the next layer in the network.\n",
        "\n",
        "- Softmax takes a set of values, and effectively picks the biggest one, so, for example, if the output of the last layer looks like [0.1, 0.1, 0.05, 0.1, 9.5, 0.1, 0.05, 0.05, 0.05], it saves you from fishing through it looking for the biggest value, and turns it into [0,0,0,0,1,0,0,0,0] -- The goal is to save a lot of coding!\n",
        "\n",
        "\n",
        "**Some Important points**\n",
        "\n",
        "- Increasing the number of neurons makes the model more complicated and the training would take a longer time but most of the times (not always) the accuracy increases.\n",
        "\n",
        "- The Flatten() layer is used when the input is an image (2D) and in the neural networks the input must look like a vector so we MUST flatten it.\n",
        "\n",
        "- Adding more layers would be good if th model needs to be more comlicated otherwise it's not essential.\n",
        "\n",
        "- If we increase the number of epochs overfitting might happen!\n",
        "\n",
        "- What is the effect of normalizing the data? What will happen if we don't normalize it? I think the loss gets smaller if we normalize the data.\n",
        "\n",
        "- In order to stop the training after some level of accuracy we have to call the \"Callback class\" and set the desirable accuracy in that class. It will stop after an epoch in which the loss/accuracy has hit the threshold.\n",
        "\n",
        "\n"
      ]
    }
  ]
}