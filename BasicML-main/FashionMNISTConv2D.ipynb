{
  "nbformat": 4,
  "nbformat_minor": 0,
  "metadata": {
    "colab": {
      "name": "FashionMNISTConv2D.ipynb",
      "provenance": [],
      "authorship_tag": "ABX9TyN4FoGz5Jlmk6eVbmEtOJTj",
      "include_colab_link": true
    },
    "kernelspec": {
      "name": "python3",
      "display_name": "Python 3"
    }
  },
  "cells": [
    {
      "cell_type": "markdown",
      "metadata": {
        "id": "view-in-github",
        "colab_type": "text"
      },
      "source": [
        "<a href=\"https://colab.research.google.com/github/Mahsalo/BasicML/blob/main/FashionMNISTConv2D.ipynb\" target=\"_parent\"><img src=\"https://colab.research.google.com/assets/colab-badge.svg\" alt=\"Open In Colab\"/></a>"
      ]
    },
    {
      "cell_type": "code",
      "metadata": {
        "colab": {
          "base_uri": "https://localhost:8080/"
        },
        "id": "_QwxBUBP475X",
        "outputId": "9c0cd3bd-3e5b-46eb-e9e2-b8929625622e"
      },
      "source": [
        "import tensorflow as tf\n",
        "print(tf.__version__)\n",
        "## Loading the data\n",
        "mnist = tf.keras.datasets.fashion_mnist\n",
        "(tr_images,tr_labels),(ts_images,ts_labels) = mnist.load_data()"
      ],
      "execution_count": null,
      "outputs": [
        {
          "output_type": "stream",
          "text": [
            "2.4.1\n"
          ],
          "name": "stdout"
        }
      ]
    },
    {
      "cell_type": "code",
      "metadata": {
        "id": "VjTR_RX7EjjP"
      },
      "source": [
        "## Normalization and re-sizing the data\n",
        "## In order to be able to use Convolutional layers we need to reshape the input into a 4D array (#samples,dim1,dim2,1)\n",
        "## It was wierd that if I change the order of normalization and reshaping the accuracy changes drastically :|\n",
        "tr_images = tr_images.reshape(60000,28,28,1)\n",
        "ts_images = ts_images.reshape(10000,28,28,1)\n",
        "\n",
        "tr_images = tr_images/255.0\n",
        "ts_images = ts_images/255.0"
      ],
      "execution_count": null,
      "outputs": []
    },
    {
      "cell_type": "code",
      "metadata": {
        "id": "E09-WBQaFCvM"
      },
      "source": [
        "## Defining the model with 2 Conv. layers and 2 Dense layers at the end (just like before :))\n",
        "\n",
        "model = tf.keras.models.Sequential( [tf.keras.layers.Conv2D(32, (3,3), activation = 'relu', input_shape=(28,28,1)),\n",
        "                                   tf.keras.layers.MaxPooling2D((2,2)),\n",
        "                                   tf.keras.layers.Conv2D(32,(3,3), activation = 'relu', input_shape = (28,28,1)),\n",
        "                                   tf.keras.layers.MaxPooling2D((2,2)),\n",
        "                                   tf.keras.layers.Flatten(),\n",
        "                                   tf.keras.layers.Dense(units = 128, activation = 'relu'),\n",
        "                                   tf.keras.layers.Dense(units=10, activation = 'softmax')]\n",
        ")\n"
      ],
      "execution_count": null,
      "outputs": []
    },
    {
      "cell_type": "code",
      "metadata": {
        "colab": {
          "base_uri": "https://localhost:8080/"
        },
        "id": "nV5DywQOGXi0",
        "outputId": "803ea90d-7742-4ed7-f9f3-9756684021c2"
      },
      "source": [
        "## Compile it\n",
        "model.compile(optimizer = 'adam', loss='sparse_categorical_crossentropy', metrics = ['accuracy'])\n",
        "model.summary()"
      ],
      "execution_count": null,
      "outputs": [
        {
          "output_type": "stream",
          "text": [
            "Model: \"sequential_4\"\n",
            "_________________________________________________________________\n",
            "Layer (type)                 Output Shape              Param #   \n",
            "=================================================================\n",
            "conv2d_11 (Conv2D)           (None, 26, 26, 32)        320       \n",
            "_________________________________________________________________\n",
            "max_pooling2d_11 (MaxPooling (None, 13, 13, 32)        0         \n",
            "_________________________________________________________________\n",
            "conv2d_12 (Conv2D)           (None, 11, 11, 32)        9248      \n",
            "_________________________________________________________________\n",
            "max_pooling2d_12 (MaxPooling (None, 5, 5, 32)          0         \n",
            "_________________________________________________________________\n",
            "flatten_5 (Flatten)          (None, 800)               0         \n",
            "_________________________________________________________________\n",
            "dense_10 (Dense)             (None, 128)               102528    \n",
            "_________________________________________________________________\n",
            "dense_11 (Dense)             (None, 10)                1290      \n",
            "=================================================================\n",
            "Total params: 113,386\n",
            "Trainable params: 113,386\n",
            "Non-trainable params: 0\n",
            "_________________________________________________________________\n"
          ],
          "name": "stdout"
        }
      ]
    },
    {
      "cell_type": "code",
      "metadata": {
        "colab": {
          "base_uri": "https://localhost:8080/"
        },
        "id": "d0Pa-cvxGvNB",
        "outputId": "38ff6b94-afc0-4611-a515-167e2d13d3f0"
      },
      "source": [
        "# Fit the model\n",
        "model.fit(tr_images,tr_labels,epochs = 5)\n"
      ],
      "execution_count": null,
      "outputs": [
        {
          "output_type": "stream",
          "text": [
            "Epoch 1/5\n",
            "1875/1875 [==============================] - 43s 23ms/step - loss: 0.6416 - accuracy: 0.7656\n",
            "Epoch 2/5\n",
            "1875/1875 [==============================] - 43s 23ms/step - loss: 0.3238 - accuracy: 0.8810\n",
            "Epoch 3/5\n",
            "1875/1875 [==============================] - 44s 24ms/step - loss: 0.2698 - accuracy: 0.9004\n",
            "Epoch 4/5\n",
            "1875/1875 [==============================] - 46s 25ms/step - loss: 0.2361 - accuracy: 0.9130\n",
            "Epoch 5/5\n",
            "1875/1875 [==============================] - 43s 23ms/step - loss: 0.2133 - accuracy: 0.9210\n"
          ],
          "name": "stdout"
        },
        {
          "output_type": "execute_result",
          "data": {
            "text/plain": [
              "<tensorflow.python.keras.callbacks.History at 0x7f0846db71d0>"
            ]
          },
          "metadata": {
            "tags": []
          },
          "execution_count": 34
        }
      ]
    },
    {
      "cell_type": "code",
      "metadata": {
        "colab": {
          "base_uri": "https://localhost:8080/"
        },
        "id": "Uy115EzXJluR",
        "outputId": "4bb349f6-2aa5-4425-d665-adc626ae7667"
      },
      "source": [
        "eval = model.evaluate(ts_images,ts_labels)\n",
        "print(eval)"
      ],
      "execution_count": null,
      "outputs": [
        {
          "output_type": "stream",
          "text": [
            "313/313 [==============================] - 3s 8ms/step - loss: 0.3678 - accuracy: 0.8668\n",
            "[0.3678031861782074, 0.8668000102043152]\n"
          ],
          "name": "stdout"
        }
      ]
    },
    {
      "cell_type": "code",
      "metadata": {
        "colab": {
          "base_uri": "https://localhost:8080/"
        },
        "id": "mh_r5o2FNPcu",
        "outputId": "dce86069-6641-459f-9036-959f8324ff2d"
      },
      "source": [
        "print(ts_labels[:100])"
      ],
      "execution_count": null,
      "outputs": [
        {
          "output_type": "stream",
          "text": [
            "[9 2 1 1 6 1 4 6 5 7 4 5 7 3 4 1 2 4 8 0 2 5 7 9 1 4 6 0 9 3 8 8 3 3 8 0 7\n",
            " 5 7 9 6 1 3 7 6 7 2 1 2 2 4 4 5 8 2 2 8 4 8 0 7 7 8 5 1 1 2 3 9 8 7 0 2 6\n",
            " 2 3 1 2 8 4 1 8 5 9 5 0 3 2 0 6 5 3 6 7 1 8 0 1 4 2]\n"
          ],
          "name": "stdout"
        }
      ]
    },
    {
      "cell_type": "code",
      "metadata": {
        "colab": {
          "base_uri": "https://localhost:8080/",
          "height": 268
        },
        "id": "7AsHqTsqM8RT",
        "outputId": "2a96d437-9a95-43d8-8dba-7f045299cac2"
      },
      "source": [
        "\n",
        "### Examininig the output of the convolution layers to see the common features being detected each time\n",
        "import matplotlib.pyplot as plt\n",
        "f, axarr = plt.subplots(3,4)\n",
        "FIRST_IMAGE=2\n",
        "SECOND_IMAGE=3\n",
        "THIRD_IMAGE=5\n",
        "CONVOLUTION_NUMBER = 1\n",
        "from tensorflow.keras import models\n",
        "layer_outputs = [layer.output for layer in model.layers]\n",
        "activation_model = tf.keras.models.Model(inputs = model.input, outputs = layer_outputs)\n",
        "for x in range(0,4):\n",
        "  f1 = activation_model.predict(ts_images[FIRST_IMAGE].reshape(1, 28, 28, 1))[x]\n",
        "  axarr[0,x].imshow(f1[0, : , :, CONVOLUTION_NUMBER], cmap='inferno')\n",
        "  axarr[0,x].grid(False)\n",
        "  f2 = activation_model.predict(ts_images[SECOND_IMAGE].reshape(1, 28, 28, 1))[x]\n",
        "  axarr[1,x].imshow(f2[0, : , :, CONVOLUTION_NUMBER], cmap='inferno')\n",
        "  axarr[1,x].grid(False)\n",
        "  f3 = activation_model.predict(ts_images[THIRD_IMAGE].reshape(1, 28, 28, 1))[x]\n",
        "  axarr[2,x].imshow(f3[0, : , :, CONVOLUTION_NUMBER], cmap='inferno')\n",
        "  axarr[2,x].grid(False)"
      ],
      "execution_count": null,
      "outputs": [
        {
          "output_type": "display_data",
          "data": {
            "image/png": "[encoded data removed]",
            "text/plain": [
              "<Figure size 432x288 with 12 Axes>"
            ]
          },
          "metadata": {
            "tags": [],
            "needs_background": "light"
          }
        }
      ]
    },
    {
      "cell_type": "markdown",
      "metadata": {
        "id": "jSq2PPGGNq0c"
      },
      "source": [
        "- What changes do you see when you reduce th enumber of neaurons (filters) or increase them? The accuracy dropped when I decreased it\n",
        "\n",
        "- What will happen if we add more layers?\n",
        "\n",
        "\n",
        "- Note: If the images are 28*28, since we can put the filter on the borders there will be a loss of 2 pixels in each direction (horizontal, vertical), so as we see in the summary the 28*28 will change into 26*26\n",
        "\n",
        "- Note: If the filter size is 64, after the convolutional layer we would have 64 images (feature maps) instead of one.\n"
      ]
    }
  ]
}